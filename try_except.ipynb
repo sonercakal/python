{
 "cells": [
  {
   "cell_type": "code",
   "execution_count": 34,
   "metadata": {},
   "outputs": [
    {
     "name": "stdout",
     "output_type": "stream",
     "text": [
      "paydada sıfır olur mu\n",
      "sayı gir\n",
      "0.5\n"
     ]
    }
   ],
   "source": [
    "#hatalar\n",
    "A=1\n",
    "B=0\n",
    "try :\n",
    "    print(A/B)\n",
    "    \n",
    "except ZeroDivisionError:\n",
    "    print(\"paydada sıfır olur mu\")\n",
    "    \n",
    "    \n",
    "#örnek\n",
    "A=1\n",
    "B=\"2\"\n",
    "\n",
    "try:\n",
    "    print(A/B)\n",
    "except TypeError:\n",
    "    print(\"sayı gir\")\n",
    "\n",
    "\n",
    "#örnek2\n",
    "try:\n",
    "    print(int(A)/int(B))\n",
    "except TypeError:\n",
    "    print(\"sayı gir\")\n",
    "    "
   ]
  },
  {
   "cell_type": "code",
   "execution_count": null,
   "metadata": {},
   "outputs": [],
   "source": []
  }
 ],
 "metadata": {
  "kernelspec": {
   "display_name": "Python 3",
   "language": "python",
   "name": "python3"
  },
  "language_info": {
   "codemirror_mode": {
    "name": "ipython",
    "version": 3
   },
   "file_extension": ".py",
   "mimetype": "text/x-python",
   "name": "python",
   "nbconvert_exporter": "python",
   "pygments_lexer": "ipython3",
   "version": "3.7.6"
  }
 },
 "nbformat": 4,
 "nbformat_minor": 4
}
