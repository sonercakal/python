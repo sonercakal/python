{
 "cells": [
  {
   "cell_type": "markdown",
   "metadata": {},
   "source": [
    "#30 kullanışlı yöntem"
   ]
  },
  {
   "cell_type": "code",
   "execution_count": 1,
   "metadata": {},
   "outputs": [
    {
     "data": {
      "text/plain": [
       "True"
      ]
     },
     "execution_count": 1,
     "metadata": {},
     "output_type": "execute_result"
    }
   ],
   "source": [
    "#tekilmi\n",
    "def all_unique(lst):\n",
    "    return len(lst) == len(set(lst))\n",
    "\n",
    "\n",
    "x = [1,1,2,2,3,2,3,4,5,6]\n",
    "y = [1,2,3,4,5]\n",
    "all_unique(x) \n",
    "all_unique(y) "
   ]
  },
  {
   "cell_type": "code",
   "execution_count": 2,
   "metadata": {},
   "outputs": [
    {
     "data": {
      "text/plain": [
       "True"
      ]
     },
     "execution_count": 2,
     "metadata": {},
     "output_type": "execute_result"
    }
   ],
   "source": [
    "from collections import Counter\n",
    "\n",
    "def anagram(first, second):\n",
    "    return Counter(first) == Counter(second)\n",
    "\n",
    "\n",
    "anagram(\"abcd3\", \"3acdb\") # True"
   ]
  },
  {
   "cell_type": "code",
   "execution_count": 3,
   "metadata": {},
   "outputs": [
    {
     "name": "stdout",
     "output_type": "stream",
     "text": [
      "28\n"
     ]
    }
   ],
   "source": [
    "#memory\n",
    "import sys \n",
    "\n",
    "variable = 30 \n",
    "print(sys.getsizeof(variable)) # 24"
   ]
  },
  {
   "cell_type": "code",
   "execution_count": 4,
   "metadata": {},
   "outputs": [
    {
     "data": {
      "text/plain": [
       "11"
      ]
     },
     "execution_count": 4,
     "metadata": {},
     "output_type": "execute_result"
    }
   ],
   "source": [
    "#bytesize\n",
    "def byte_size(string):\n",
    "    return(len(string.encode('utf-8')))\n",
    "    \n",
    "    \n",
    "byte_size('😀') # 4\n",
    "byte_size('Hello World') # 11 "
   ]
  },
  {
   "cell_type": "code",
   "execution_count": 5,
   "metadata": {},
   "outputs": [
    {
     "name": "stdout",
     "output_type": "stream",
     "text": [
      "ProgrammingProgramming\n"
     ]
    }
   ],
   "source": [
    "#print n times\n",
    "n = 2\n",
    "s =\"Programming\"\n",
    "\n",
    "print(s * n) # ProgrammingProgramming"
   ]
  },
  {
   "cell_type": "code",
   "execution_count": 6,
   "metadata": {},
   "outputs": [
    {
     "name": "stdout",
     "output_type": "stream",
     "text": [
      "Programming Is Awesome\n"
     ]
    }
   ],
   "source": [
    "#ilk harf büyük\n",
    "s = \"programming is awesome\"\n",
    "\n",
    "print(s.title()) # Programming Is Awesome"
   ]
  },
  {
   "cell_type": "code",
   "execution_count": 7,
   "metadata": {},
   "outputs": [],
   "source": [
    "#chunk\n",
    "def chunk(list, size):\n",
    "    return [list[i:i+size] for i in range(0,len(list), size)]"
   ]
  },
  {
   "cell_type": "code",
   "execution_count": 8,
   "metadata": {},
   "outputs": [
    {
     "data": {
      "text/plain": [
       "[1, 2, 3, 'a', 's', 34]"
      ]
     },
     "execution_count": 8,
     "metadata": {},
     "output_type": "execute_result"
    }
   ],
   "source": [
    "#This method removes falsy values (False, None, 0 and “”) from a list by using filter().\n",
    "\n",
    "def compact(lst):\n",
    "    return list(filter(None, lst))\n",
    "  \n",
    "  \n",
    "compact([0, 1, False, 2, '', 3, 'a', 's', 34]) # [ 1, 2, 3, 'a', 's', 34 ]"
   ]
  },
  {
   "cell_type": "code",
   "execution_count": 10,
   "metadata": {},
   "outputs": [
    {
     "name": "stdout",
     "output_type": "stream",
     "text": [
      "<zip object at 0x000001BFA8ED4308>\n"
     ]
    }
   ],
   "source": [
    "#2d array\n",
    "array = [['a', 'b'], ['c', 'd'], ['e', 'f']]\n",
    "transposed = zip(*array)\n",
    "print(transposed) # [('a', 'c', 'e'), ('b', 'd', 'f')]"
   ]
  },
  {
   "cell_type": "code",
   "execution_count": 11,
   "metadata": {},
   "outputs": [
    {
     "name": "stdout",
     "output_type": "stream",
     "text": [
      "My hobbies are:\n",
      "basketball, football, swimming\n"
     ]
    }
   ],
   "source": [
    "#commaseperated\n",
    "hobbies = [\"basketball\", \"football\", \"swimming\"]\n",
    "\n",
    "print(\"My hobbies are:\") # My hobbies are:\n",
    "print(\", \".join(hobbies)) # basketball, football, swimming"
   ]
  },
  {
   "cell_type": "code",
   "execution_count": 12,
   "metadata": {},
   "outputs": [
    {
     "data": {
      "text/plain": [
       "[]"
      ]
     },
     "execution_count": 12,
     "metadata": {},
     "output_type": "execute_result"
    }
   ],
   "source": [
    "#This method gets vowels (‘a’, ‘e’, ‘i’, ‘o’, ‘u’) found in a string.\n",
    "def get_vowels(string):\n",
    "    return [each for each in string if each in 'aeiou'] \n",
    "\n",
    "\n",
    "get_vowels('foobar') # ['o', 'o', 'a']\n",
    "get_vowels('gym') # []"
   ]
  },
  {
   "cell_type": "code",
   "execution_count": 13,
   "metadata": {},
   "outputs": [
    {
     "data": {
      "text/plain": [
       "'fooBar'"
      ]
     },
     "execution_count": 13,
     "metadata": {},
     "output_type": "execute_result"
    }
   ],
   "source": [
    "#küçükharfeçevirme\n",
    "def decapitalize(str):\n",
    "    return str[:1].lower() + str[1:]\n",
    "  \n",
    "  \n",
    "decapitalize('FooBar') # 'fooBar'\n",
    "decapitalize('FooBar') # 'fooBar'"
   ]
  },
  {
   "cell_type": "code",
   "execution_count": 14,
   "metadata": {},
   "outputs": [
    {
     "data": {
      "text/plain": [
       "[1, 2, 3, 4, 5]"
      ]
     },
     "execution_count": 14,
     "metadata": {},
     "output_type": "execute_result"
    }
   ],
   "source": [
    "def spread(arg):\n",
    "    ret = []\n",
    "    for i in arg:\n",
    "        if isinstance(i, list):\n",
    "            ret.extend(i)\n",
    "        else:\n",
    "            ret.append(i)\n",
    "    return ret\n",
    "\n",
    "def deep_flatten(xs):\n",
    "    flat_list = []\n",
    "    [flat_list.extend(deep_flatten(x)) for x in xs] if isinstance(xs, list) else flat_list.append(xs)\n",
    "    return flat_list\n",
    "\n",
    "\n",
    "deep_flatten([1, [2], [[3], 4], 5]) # [1,2,3,4,5]"
   ]
  },
  {
   "cell_type": "code",
   "execution_count": 15,
   "metadata": {},
   "outputs": [
    {
     "data": {
      "text/plain": [
       "[3]"
      ]
     },
     "execution_count": 15,
     "metadata": {},
     "output_type": "execute_result"
    }
   ],
   "source": [
    "#difference\n",
    "\n",
    "def difference(a, b):\n",
    "    set_a = set(a)\n",
    "    set_b = set(b)\n",
    "    comparison = set_a.difference(set_b)\n",
    "    return list(comparison)\n",
    "\n",
    "\n",
    "difference([1,2,3], [1,2,4]) # [3]"
   ]
  },
  {
   "cell_type": "code",
   "execution_count": 16,
   "metadata": {},
   "outputs": [
    {
     "data": {
      "text/plain": [
       "[{'x': 2}]"
      ]
     },
     "execution_count": 16,
     "metadata": {},
     "output_type": "execute_result"
    }
   ],
   "source": [
    "\n",
    "def difference_by(a, b, fn):\n",
    "    b = set(map(fn, b))\n",
    "    return [item for item in a if fn(item) not in b]\n",
    "\n",
    "\n",
    "from math import floor\n",
    "difference_by([2.1, 1.2], [2.3, 3.4], floor) # [1.2]\n",
    "difference_by([{ 'x': 2 }, { 'x': 1 }], [{ 'x': 1 }], lambda v : v['x']) # [ { x: 2 } ]"
   ]
  },
  {
   "cell_type": "code",
   "execution_count": 17,
   "metadata": {},
   "outputs": [
    {
     "name": "stdout",
     "output_type": "stream",
     "text": [
      "9\n"
     ]
    }
   ],
   "source": [
    "def add(a, b):\n",
    "    return a + b\n",
    "\n",
    "def subtract(a, b):\n",
    "    return a - b\n",
    "\n",
    "a, b = 4, 5\n",
    "print((subtract if a > b else add)(a, b)) # 9 "
   ]
  },
  {
   "cell_type": "code",
   "execution_count": 18,
   "metadata": {},
   "outputs": [
    {
     "data": {
      "text/plain": [
       "False"
      ]
     },
     "execution_count": 18,
     "metadata": {},
     "output_type": "execute_result"
    }
   ],
   "source": [
    "def has_duplicates(lst):\n",
    "    return len(lst) != len(set(lst))\n",
    "    \n",
    "    \n",
    "x = [1,2,3,4,5,5]\n",
    "y = [1,2,3,4,5]\n",
    "has_duplicates(x) # True\n",
    "has_duplicates(y) # False"
   ]
  },
  {
   "cell_type": "code",
   "execution_count": 19,
   "metadata": {},
   "outputs": [
    {
     "name": "stdout",
     "output_type": "stream",
     "text": [
      "{'x': 1, 'y': 3, 'z': 4}\n"
     ]
    }
   ],
   "source": [
    "def merge_two_dicts(a, b):\n",
    "    c = a.copy()   # make a copy of a \n",
    "    c.update(b)    # modify keys and values of a with the ones from b\n",
    "    return c\n",
    "\n",
    "\n",
    "a = { 'x': 1, 'y': 2}\n",
    "b = { 'y': 3, 'z': 4}\n",
    "print(merge_two_dicts(a, b)) # {'y': 3, 'x': 1, 'z': 4}"
   ]
  },
  {
   "cell_type": "code",
   "execution_count": 20,
   "metadata": {},
   "outputs": [
    {
     "name": "stdout",
     "output_type": "stream",
     "text": [
      "{'a': 2, 'b': 3, 'c': 4}\n"
     ]
    }
   ],
   "source": [
    "#Convert two lists into a dictionary\n",
    "def to_dictionary(keys, values):\n",
    "    return dict(zip(keys, values))\n",
    "    \n",
    "\n",
    "keys = [\"a\", \"b\", \"c\"]    \n",
    "values = [2, 3, 4]\n",
    "print(to_dictionary(keys, values)) # {'a': 2, 'c': 4, 'b': 3}"
   ]
  },
  {
   "cell_type": "code",
   "execution_count": 21,
   "metadata": {},
   "outputs": [
    {
     "name": "stdout",
     "output_type": "stream",
     "text": [
      "Value a Index  0\n",
      "Value b Index  1\n",
      "Value c Index  2\n",
      "Value d Index  3\n"
     ]
    }
   ],
   "source": [
    "list = [\"a\", \"b\", \"c\", \"d\"]\n",
    "for index, element in enumerate(list): \n",
    "    print(\"Value\", element, \"Index \", index, )\n",
    "# ('Value', 'a', 'Index ', 0)\n",
    "# ('Value', 'b', 'Index ', 1)\n",
    "#('Value', 'c', 'Index ', 2)\n",
    "# ('Value', 'd', 'Index ', 3)  "
   ]
  },
  {
   "cell_type": "code",
   "execution_count": 22,
   "metadata": {},
   "outputs": [
    {
     "name": "stdout",
     "output_type": "stream",
     "text": [
      "3\n",
      "Time:  0.0\n"
     ]
    }
   ],
   "source": [
    "#time\n",
    "import time\n",
    "\n",
    "start_time = time.time()\n",
    "\n",
    "a = 1\n",
    "b = 2\n",
    "c = a + b\n",
    "print(c) #3\n",
    "\n",
    "end_time = time.time()\n",
    "total_time = end_time - start_time\n",
    "print(\"Time: \", total_time)\n",
    "\n",
    "# ('Time: ', 1.1205673217773438e-05)"
   ]
  },
  {
   "cell_type": "code",
   "execution_count": 23,
   "metadata": {},
   "outputs": [
    {
     "name": "stdout",
     "output_type": "stream",
     "text": [
      "Thank God, no exceptions were raised.\n"
     ]
    }
   ],
   "source": [
    "#try else\n",
    "\n",
    "try:\n",
    "    2*3\n",
    "except TypeError:\n",
    "    print(\"An exception was raised\")\n",
    "else:\n",
    "    print(\"Thank God, no exceptions were raised.\")\n",
    "\n",
    "#Thank God, no exceptions were raised."
   ]
  },
  {
   "cell_type": "code",
   "execution_count": 24,
   "metadata": {},
   "outputs": [
    {
     "data": {
      "text/plain": [
       "2"
      ]
     },
     "execution_count": 24,
     "metadata": {},
     "output_type": "execute_result"
    }
   ],
   "source": [
    "#most frequent\n",
    "def most_frequent(list):\n",
    "    return max(set(list), key = list.count)\n",
    "  \n",
    "\n",
    "numbers = [1,2,1,2,3,2,1,4,2]\n",
    "most_frequent(numbers)  "
   ]
  },
  {
   "cell_type": "code",
   "execution_count": 25,
   "metadata": {},
   "outputs": [
    {
     "data": {
      "text/plain": [
       "True"
      ]
     },
     "execution_count": 25,
     "metadata": {},
     "output_type": "execute_result"
    }
   ],
   "source": [
    "def palindrome(a):\n",
    "    return a == a[::-1]\n",
    "\n",
    "\n",
    "palindrome('mom') # True"
   ]
  },
  {
   "cell_type": "code",
   "execution_count": 26,
   "metadata": {},
   "outputs": [
    {
     "name": "stdout",
     "output_type": "stream",
     "text": [
      "25\n"
     ]
    }
   ],
   "source": [
    "#without if\n",
    "import operator\n",
    "action = {\n",
    "    \"+\": operator.add,\n",
    "    \"-\": operator.sub,\n",
    "    \"/\": operator.truediv,\n",
    "    \"*\": operator.mul,\n",
    "    \"**\": pow\n",
    "}\n",
    "print(action['-'](50, 25)) # 25"
   ]
  },
  {
   "cell_type": "code",
   "execution_count": 27,
   "metadata": {},
   "outputs": [
    {
     "name": "stdout",
     "output_type": "stream",
     "text": [
      "[1, 4, 3, 2]\n"
     ]
    }
   ],
   "source": [
    "from random import shuffle\n",
    "\n",
    "foo = [1, 2, 3, 4]\n",
    "shuffle(foo) \n",
    "print(foo) # [1, 4, 3, 2] , foo = [1, 2, 3, 4]"
   ]
  },
  {
   "cell_type": "code",
   "execution_count": 28,
   "metadata": {},
   "outputs": [
    {
     "ename": "TypeError",
     "evalue": "isinstance() arg 2 must be a type or tuple of types",
     "output_type": "error",
     "traceback": [
      "\u001b[1;31m---------------------------------------------------------------------------\u001b[0m",
      "\u001b[1;31mTypeError\u001b[0m                                 Traceback (most recent call last)",
      "\u001b[1;32m<ipython-input-28-f52922170b53>\u001b[0m in \u001b[0;36m<module>\u001b[1;34m\u001b[0m\n\u001b[0;32m      9\u001b[0m \u001b[1;33m\u001b[0m\u001b[0m\n\u001b[0;32m     10\u001b[0m \u001b[1;33m\u001b[0m\u001b[0m\n\u001b[1;32m---> 11\u001b[1;33m \u001b[0mspread\u001b[0m\u001b[1;33m(\u001b[0m\u001b[1;33m[\u001b[0m\u001b[1;36m1\u001b[0m\u001b[1;33m,\u001b[0m\u001b[1;36m2\u001b[0m\u001b[1;33m,\u001b[0m\u001b[1;36m3\u001b[0m\u001b[1;33m,\u001b[0m\u001b[1;33m[\u001b[0m\u001b[1;36m4\u001b[0m\u001b[1;33m,\u001b[0m\u001b[1;36m5\u001b[0m\u001b[1;33m,\u001b[0m\u001b[1;36m6\u001b[0m\u001b[1;33m]\u001b[0m\u001b[1;33m,\u001b[0m\u001b[1;33m[\u001b[0m\u001b[1;36m7\u001b[0m\u001b[1;33m]\u001b[0m\u001b[1;33m,\u001b[0m\u001b[1;36m8\u001b[0m\u001b[1;33m,\u001b[0m\u001b[1;36m9\u001b[0m\u001b[1;33m]\u001b[0m\u001b[1;33m)\u001b[0m \u001b[1;31m# [1,2,3,4,5,6,7,8,9]\u001b[0m\u001b[1;33m\u001b[0m\u001b[1;33m\u001b[0m\u001b[0m\n\u001b[0m",
      "\u001b[1;32m<ipython-input-28-f52922170b53>\u001b[0m in \u001b[0;36mspread\u001b[1;34m(arg)\u001b[0m\n\u001b[0;32m      2\u001b[0m     \u001b[0mret\u001b[0m \u001b[1;33m=\u001b[0m \u001b[1;33m[\u001b[0m\u001b[1;33m]\u001b[0m\u001b[1;33m\u001b[0m\u001b[1;33m\u001b[0m\u001b[0m\n\u001b[0;32m      3\u001b[0m     \u001b[1;32mfor\u001b[0m \u001b[0mi\u001b[0m \u001b[1;32min\u001b[0m \u001b[0marg\u001b[0m\u001b[1;33m:\u001b[0m\u001b[1;33m\u001b[0m\u001b[1;33m\u001b[0m\u001b[0m\n\u001b[1;32m----> 4\u001b[1;33m         \u001b[1;32mif\u001b[0m \u001b[0misinstance\u001b[0m\u001b[1;33m(\u001b[0m\u001b[0mi\u001b[0m\u001b[1;33m,\u001b[0m \u001b[0mlist\u001b[0m\u001b[1;33m)\u001b[0m\u001b[1;33m:\u001b[0m\u001b[1;33m\u001b[0m\u001b[1;33m\u001b[0m\u001b[0m\n\u001b[0m\u001b[0;32m      5\u001b[0m             \u001b[0mret\u001b[0m\u001b[1;33m.\u001b[0m\u001b[0mextend\u001b[0m\u001b[1;33m(\u001b[0m\u001b[0mi\u001b[0m\u001b[1;33m)\u001b[0m\u001b[1;33m\u001b[0m\u001b[1;33m\u001b[0m\u001b[0m\n\u001b[0;32m      6\u001b[0m         \u001b[1;32melse\u001b[0m\u001b[1;33m:\u001b[0m\u001b[1;33m\u001b[0m\u001b[1;33m\u001b[0m\u001b[0m\n",
      "\u001b[1;31mTypeError\u001b[0m: isinstance() arg 2 must be a type or tuple of types"
     ]
    }
   ],
   "source": [
    "def spread(arg):\n",
    "    ret = []\n",
    "    for i in arg:\n",
    "        if isinstance(i, list):\n",
    "            ret.extend(i)\n",
    "        else:\n",
    "            ret.append(i)\n",
    "    return ret\n",
    "\n",
    "\n",
    "spread([1,2,3,[4,5,6],[7],8,9]) # [1,2,3,4,5,6,7,8,9]"
   ]
  },
  {
   "cell_type": "code",
   "execution_count": 29,
   "metadata": {},
   "outputs": [
    {
     "name": "stdout",
     "output_type": "stream",
     "text": [
      "14\n",
      "-1\n"
     ]
    }
   ],
   "source": [
    "a, b = -1, 14\n",
    "a, b = b, a\n",
    "\n",
    "print(a) # 14\n",
    "print(b) # -1"
   ]
  },
  {
   "cell_type": "code",
   "execution_count": 30,
   "metadata": {},
   "outputs": [
    {
     "name": "stdout",
     "output_type": "stream",
     "text": [
      "3\n"
     ]
    }
   ],
   "source": [
    "\n",
    "d = {'a': 1, 'b': 2}\n",
    "\n",
    "print(d.get('c', 3)) # 3"
   ]
  },
  {
   "cell_type": "code",
   "execution_count": null,
   "metadata": {},
   "outputs": [],
   "source": []
  }
 ],
 "metadata": {
  "kernelspec": {
   "display_name": "Python 3",
   "language": "python",
   "name": "python3"
  },
  "language_info": {
   "codemirror_mode": {
    "name": "ipython",
    "version": 3
   },
   "file_extension": ".py",
   "mimetype": "text/x-python",
   "name": "python",
   "nbconvert_exporter": "python",
   "pygments_lexer": "ipython3",
   "version": "3.7.7"
  }
 },
 "nbformat": 4,
 "nbformat_minor": 4
}
