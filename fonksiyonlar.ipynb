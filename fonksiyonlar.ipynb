{
 "cells": [
  {
   "cell_type": "code",
   "execution_count": 1,
   "metadata": {},
   "outputs": [
    {
     "name": "stdout",
     "output_type": "stream",
     "text": [
      "girilen sayının 9 ile çarpımı:81\n"
     ]
    }
   ],
   "source": [
    "\n",
    "#1.fonksiyon\n",
    "def kare_al(x):\n",
    "    print('girilen sayının 9 ile çarpımı:'+ str(x*9))\n",
    "    \n",
    "kare_al(9)\n"
   ]
  },
  {
   "cell_type": "code",
   "execution_count": 2,
   "metadata": {},
   "outputs": [
    {
     "data": {
      "text/plain": [
       "3.0"
      ]
     },
     "execution_count": 2,
     "metadata": {},
     "output_type": "execute_result"
    }
   ],
   "source": [
    "#2.fonksiyon return\n",
    "def carp_bol(x,y):\n",
    "    return x*y/y\n",
    "\n",
    "carp_bol(3,2)"
   ]
  },
  {
   "cell_type": "code",
   "execution_count": 3,
   "metadata": {},
   "outputs": [
    {
     "data": {
      "text/plain": [
       "[10]"
      ]
     },
     "execution_count": 3,
     "metadata": {},
     "output_type": "execute_result"
    }
   ],
   "source": [
    "#listeye eleman ekleme\n",
    "x=[]\n",
    "def ekleme(y):\n",
    "    x.append(y)\n",
    "\n",
    "ekleme(10)\n",
    "x"
   ]
  },
  {
   "cell_type": "code",
   "execution_count": 4,
   "metadata": {},
   "outputs": [],
   "source": [
    "#üstüne ekleyerek yazar\n",
    "def yeni_ekle(y):\n",
    "    global x\n",
    "    x+=y\n",
    "    \n",
    "yeni_ekle(\"a\")\n",
    "yeni_ekle(\"b\")"
   ]
  },
  {
   "cell_type": "code",
   "execution_count": 5,
   "metadata": {},
   "outputs": [
    {
     "name": "stdout",
     "output_type": "stream",
     "text": [
      "girilen sayının küpü  27\n"
     ]
    }
   ],
   "source": [
    "def küpal(x):\n",
    "    print(\"girilen sayının küpü  \"+str(x*x*x))\n",
    "    \n",
    "küpal(3)"
   ]
  },
  {
   "cell_type": "code",
   "execution_count": 6,
   "metadata": {},
   "outputs": [
    {
     "name": "stdout",
     "output_type": "stream",
     "text": [
      "12\n"
     ]
    }
   ],
   "source": [
    "def çarpma(x,y):\n",
    "    print(x*y)\n",
    "    \n",
    "çarpma(3,4)"
   ]
  },
  {
   "cell_type": "code",
   "execution_count": 7,
   "metadata": {},
   "outputs": [
    {
     "name": "stdout",
     "output_type": "stream",
     "text": [
      "100\n"
     ]
    }
   ],
   "source": [
    "def onlacarp(x,y=10):\n",
    "    print(x*y)\n",
    "\n",
    "onlacarp(10)"
   ]
  },
  {
   "cell_type": "code",
   "execution_count": 8,
   "metadata": {},
   "outputs": [
    {
     "data": {
      "text/plain": [
       "0.5"
      ]
     },
     "execution_count": 8,
     "metadata": {},
     "output_type": "execute_result"
    }
   ],
   "source": [
    "#return kullanımı\n",
    "def boykilo(boy,kilo):\n",
    "    return boy/kilo\n",
    "\n",
    "boykilo(100,200)\n"
   ]
  },
  {
   "cell_type": "code",
   "execution_count": null,
   "metadata": {},
   "outputs": [],
   "source": []
  }
 ],
 "metadata": {
  "kernelspec": {
   "display_name": "Python 3",
   "language": "python",
   "name": "python3"
  },
  "language_info": {
   "codemirror_mode": {
    "name": "ipython",
    "version": 3
   },
   "file_extension": ".py",
   "mimetype": "text/x-python",
   "name": "python",
   "nbconvert_exporter": "python",
   "pygments_lexer": "ipython3",
   "version": "3.7.6"
  }
 },
 "nbformat": 4,
 "nbformat_minor": 4
}
