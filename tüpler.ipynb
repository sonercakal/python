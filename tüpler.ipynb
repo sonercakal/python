{
 "cells": [
  {
   "cell_type": "code",
   "execution_count": 48,
   "metadata": {},
   "outputs": [
    {
     "data": {
      "text/plain": [
       "'ali'"
      ]
     },
     "execution_count": 48,
     "metadata": {},
     "output_type": "execute_result"
    }
   ],
   "source": [
    "#tüpler\n",
    "\n",
    "\n",
    "#oluşturma\n",
    "\n",
    "t=(\"ali\",\"veli\",1,2,3,[1,2,3,4])\n",
    "\n",
    "t2=\"ali\",\"veli\",1,2,3,[1,2,3,4]\n",
    "\n",
    "t3=tuple(\"abcd\")\n",
    "\n",
    "t4=(\"abcd\",)\n",
    "type(t4)\n",
    "\n",
    "t[0]\n",
    "#listedeki gibi elemanlar değiştirilemez\n"
   ]
  },
  {
   "cell_type": "code",
   "execution_count": null,
   "metadata": {},
   "outputs": [],
   "source": []
  }
 ],
 "metadata": {
  "kernelspec": {
   "display_name": "Python 3",
   "language": "python",
   "name": "python3"
  },
  "language_info": {
   "codemirror_mode": {
    "name": "ipython",
    "version": 3
   },
   "file_extension": ".py",
   "mimetype": "text/x-python",
   "name": "python",
   "nbconvert_exporter": "python",
   "pygments_lexer": "ipython3",
   "version": "3.7.6"
  }
 },
 "nbformat": 4,
 "nbformat_minor": 4
}
